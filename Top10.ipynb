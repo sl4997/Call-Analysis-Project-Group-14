{
 "cells": [
  {
   "cell_type": "code",
   "execution_count": 30,
   "id": "f7ee1d58",
   "metadata": {},
   "outputs": [],
   "source": [
    "import numpy as np\n",
    "import pandas as pd"
   ]
  },
  {
   "cell_type": "code",
   "execution_count": 31,
   "id": "1d5ce893",
   "metadata": {},
   "outputs": [
    {
     "name": "stderr",
     "output_type": "stream",
     "text": [
      "I:\\anaconda1\\lib\\site-packages\\IPython\\core\\interactiveshell.py:3444: DtypeWarning: Columns (20,31,32) have mixed types.Specify dtype option on import or set low_memory=False.\n",
      "  exec(code_obj, self.user_global_ns, self.user_ns)\n"
     ]
    }
   ],
   "source": [
    "df = pd.read_csv(\"311_Service_Requests_2020.csv\")"
   ]
  },
  {
   "cell_type": "code",
   "execution_count": 32,
   "id": "8f6be466",
   "metadata": {},
   "outputs": [],
   "source": [
    "df = df[df['Incident Zip'] == 10025]"
   ]
  },
  {
   "cell_type": "code",
   "execution_count": 33,
   "id": "da1474d5",
   "metadata": {},
   "outputs": [],
   "source": [
    "a = df.groupby(\"Complaint Type\").count()"
   ]
  },
  {
   "cell_type": "code",
   "execution_count": 34,
   "id": "9e93e913",
   "metadata": {},
   "outputs": [],
   "source": [
    "b = a.sort_values('Unique Key',axis=0,ascending=False)[:10]"
   ]
  },
  {
   "cell_type": "code",
   "execution_count": 35,
   "id": "0c165b6f",
   "metadata": {},
   "outputs": [],
   "source": [
    "top10 = b['Unique Key']"
   ]
  },
  {
   "cell_type": "code",
   "execution_count": 37,
   "id": "4e08f679",
   "metadata": {},
   "outputs": [
    {
     "data": {
      "text/plain": [
       "Complaint Type\n",
       "Noise - Residential            2952\n",
       "Noise - Street/Sidewalk        2128\n",
       "HEAT/HOT WATER                 1885\n",
       "Noise                          1131\n",
       "Illegal Parking                 792\n",
       "Noise - Vehicle                 787\n",
       "Non-Emergency Police Matter     773\n",
       "Rodent                          691\n",
       "Illegal Fireworks               672\n",
       "UNSANITARY CONDITION            565\n",
       "Name: Unique Key, dtype: int64"
      ]
     },
     "execution_count": 37,
     "metadata": {},
     "output_type": "execute_result"
    }
   ],
   "source": [
    "top10"
   ]
  }
 ],
 "metadata": {
  "kernelspec": {
   "display_name": "Python 3",
   "language": "python",
   "name": "python3"
  },
  "language_info": {
   "codemirror_mode": {
    "name": "ipython",
    "version": 3
   },
   "file_extension": ".py",
   "mimetype": "text/x-python",
   "name": "python",
   "nbconvert_exporter": "python",
   "pygments_lexer": "ipython3",
   "version": "3.8.8"
  }
 },
 "nbformat": 4,
 "nbformat_minor": 5
}
